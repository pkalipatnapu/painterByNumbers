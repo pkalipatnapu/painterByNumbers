{
 "cells": [
  {
   "cell_type": "code",
   "execution_count": 1,
   "metadata": {
    "collapsed": true
   },
   "outputs": [],
   "source": [
    "import pandas as pd"
   ]
  },
  {
   "cell_type": "code",
   "execution_count": 6,
   "metadata": {
    "collapsed": true
   },
   "outputs": [],
   "source": [
    "data = pd.read_csv(\"../train_info.csv\")"
   ]
  },
  {
   "cell_type": "code",
   "execution_count": 7,
   "metadata": {
    "collapsed": false
   },
   "outputs": [
    {
     "data": {
      "text/plain": [
       "(79433, 6)"
      ]
     },
     "execution_count": 7,
     "metadata": {},
     "output_type": "execute_result"
    }
   ],
   "source": [
    "data.shape"
   ]
  },
  {
   "cell_type": "code",
   "execution_count": 3,
   "metadata": {
    "collapsed": true
   },
   "outputs": [],
   "source": [
    "counts = data.groupby(data['artist']).count()"
   ]
  },
  {
   "cell_type": "code",
   "execution_count": 4,
   "metadata": {
    "collapsed": true
   },
   "outputs": [],
   "source": [
    "manyPaintings = counts[counts.filename > 10]"
   ]
  },
  {
   "cell_type": "code",
   "execution_count": 5,
   "metadata": {
    "collapsed": false
   },
   "outputs": [
    {
     "data": {
      "text/plain": [
       "(1351, 5)"
      ]
     },
     "execution_count": 5,
     "metadata": {},
     "output_type": "execute_result"
    }
   ],
   "source": [
    "manyPaintings.shape"
   ]
  },
  {
   "cell_type": "code",
   "execution_count": 9,
   "metadata": {
    "collapsed": false
   },
   "outputs": [
    {
     "data": {
      "text/plain": [
       "<bound method DataFrame.head of                                   filename  title  style  genre  date\n",
       "artist                                                               \n",
       "003cb9bdfadc23495b51a630f8af2570         5      5      5      5     4\n",
       "0052cc81f35d53736ab860be16fc07f4        58     58     58     58    55\n",
       "00a5e68f22bff52b51c8a76754afa8a8        22     22     22     22    21\n",
       "00f78fa862830cc1ba569285da3232ed         6      6      6      5     3\n",
       "00fc66616732eee998b037e68ab7fccf        41     41     41     41    34\n",
       "012bd50d44685a367716570e252c7556        47     47     47     47    31\n",
       "01817fee724e0c55ff3013b9d5da3e1c        10     10     10     10     8\n",
       "01c28714c9274000f7fa5856a747ea8b        13     13     13     13     9\n",
       "01d069f37d7004e7b11de0d6abb8f3d7        15     15     15     15    15\n",
       "024cbb4297ab2babbf5749b3ff7468b1        48     48     48     48    32\n",
       "0262857af5392345a4d9f852b55369e2        12     12     12     12     7\n",
       "02957a471533ff4921fa01fcdec60553        13     13     13     13    11\n",
       "02b5b7db02d3fa2bf86aa034f8799720        20     20     20     20    20\n",
       "02b866899dc71a00364337e830d075d7       147    147    147    147   120\n",
       "02c5e2cd3cd6c64f358f6e26892d247f        14     14     14     14     9\n",
       "02d70388e12718a1f0117c5a2a513255        14     14     14     14    14\n",
       "035c74d2bb22742f9ad6a01600036c56        10     10     10      9     7\n",
       "03ac41c33b5a777713a5dd0d07d01df8        18     18     18     18     1\n",
       "03eb72f3b50cabc136056918808ba5cb        57     57     57     57    54\n",
       "03f28fbdb3d6543f4b0d9307d0b7da00        46     46     46     46    34\n",
       "040827f8fb458d1cea7d3e0b9e33132f        89     89     89     89    48\n",
       "041b8f718d4ea537b14762cccc012d87        50     50     50     50    50\n",
       "04687b57416119aa3341483713e51de2        13     13     13     12    13\n",
       "0507704baf3cb8afca454f11276780a3        16     16     15     15     8\n",
       "0543dab6ae5c1a984446396bf37ed065        17     17     17     17    12\n",
       "0549f194ce656a3a2f59da5ac7ba2235        12     12     12     12    12\n",
       "059d590e174c545474f0fedcc126ce4c        91     91     91     91    85\n",
       "05a3d2b6995d83ffd6fde79e29139238        17     17     17     17    11\n",
       "05a5bf666fa1d82ab1c4ce0891286adb        28     28     28     28    19\n",
       "05b68aa79caec9b1b08adcc71db67816        15     15      0      0    15\n",
       "...                                    ...    ...    ...    ...   ...\n",
       "f98099661e99898b46a8bcd0f2908116        92     92     92     92     7\n",
       "f988edaed0465650db027f536a194180        34     34     34     34    30\n",
       "fa7a0860d572a3ec6d1e563839a22d73        34     34     33     31    28\n",
       "fa82d5d5a7b16f3656ba0ea719f02080        41     41     40     41     0\n",
       "facb8013e0ad77b41ecbdf661f440c03        81     81     80     81    39\n",
       "faeae256a219b6878ccdbf6d58c856ff        18     18     18     18     0\n",
       "fb5d5b0c1a314cebea759dff3e52d909        11     11     11     11     8\n",
       "fbaf536ad899a31e80be9ff101b119cc       197    197    195    197   174\n",
       "fbf1ac1a72a08aada0881f372b01df23        13     13     13     13     3\n",
       "fbf32af438533b9070ea8acf8b04b567        10     10     10     10    10\n",
       "fc1f3b2cf51749fec8a6496e02e26673         7      7      4      4     6\n",
       "fc5d2fb742bb3f1219014dc735c25616        42     42      0      0     0\n",
       "fcd86617eb1b590ff64b9d49b518e915         7      7      7      7     6\n",
       "fd49efbf7ff085035ed05b97d1cdcd12        29     29     29     29    27\n",
       "fd7bb9c24b27ac49aa75676543ca3bc3         8      8      8      8     2\n",
       "fd97f40e69674e62242bf32f3c4def13        37     37     37     37     0\n",
       "fe037a65e3a40c4377dedad1eb003a08        30     30     30     30    28\n",
       "fe52a4380f2b016fc3d848350f50c30f        25     25     25     25    25\n",
       "fe799773fc961cfe967eb558668e163a        33     33     33     33    27\n",
       "fe895441e105cbe6abda229f74f8cd13        44     44     44     44    44\n",
       "fe9ac11c0a84db1a5c60adb65af405e8        13     13     13     13     7\n",
       "fed589fddf19274989ba078ca0c1c125        44     44     43     44    43\n",
       "ff033e51ceb97fb56e68c50c88e0be9e        16     16     16     16     9\n",
       "ff0c88260957323f0d9f72b123574855        18     18     18     18     0\n",
       "ff1c3278374502804df77f2e083f0115        14     14     14     14    13\n",
       "ff255a2274535a5e0685c138d6aacdc9        14     14     14     14    14\n",
       "ff5bb5557d34e6917582a0cff39a3cba        80     80     80     80    47\n",
       "ff5fdc9c4a06d8b6153617483d5f9519        39     39     39     39    28\n",
       "ff9488f3353c524c946f38e6547af32a        23     23     23     23    21\n",
       "ffe383b8b85b595b88db107c0bb69132        20     20     20     14    20\n",
       "\n",
       "[1584 rows x 5 columns]>"
      ]
     },
     "execution_count": 9,
     "metadata": {},
     "output_type": "execute_result"
    }
   ],
   "source": [
    "counts.head"
   ]
  },
  {
   "cell_type": "code",
   "execution_count": 12,
   "metadata": {
    "collapsed": false
   },
   "outputs": [],
   "source": [
    "fc = counts['filename']"
   ]
  },
  {
   "cell_type": "code",
   "execution_count": 14,
   "metadata": {
    "collapsed": false
   },
   "outputs": [
    {
     "data": {
      "text/plain": [
       "23.0"
      ]
     },
     "execution_count": 14,
     "metadata": {},
     "output_type": "execute_result"
    }
   ],
   "source": [
    "counts['filename'].median()"
   ]
  },
  {
   "cell_type": "code",
   "execution_count": 15,
   "metadata": {
    "collapsed": false
   },
   "outputs": [
    {
     "data": {
      "text/plain": [
       "79433"
      ]
     },
     "execution_count": 15,
     "metadata": {},
     "output_type": "execute_result"
    }
   ],
   "source": [
    "counts['filename'].sum()"
   ]
  },
  {
   "cell_type": "code",
   "execution_count": 16,
   "metadata": {
    "collapsed": false
   },
   "outputs": [
    {
     "data": {
      "text/plain": [
       "(79433, 6)"
      ]
     },
     "execution_count": 16,
     "metadata": {},
     "output_type": "execute_result"
    }
   ],
   "source": [
    "data.shape"
   ]
  },
  {
   "cell_type": "code",
   "execution_count": null,
   "metadata": {
    "collapsed": true
   },
   "outputs": [],
   "source": []
  }
 ],
 "metadata": {
  "kernelspec": {
   "display_name": "Python [Root]",
   "language": "python",
   "name": "Python [Root]"
  },
  "language_info": {
   "codemirror_mode": {
    "name": "ipython",
    "version": 2
   },
   "file_extension": ".py",
   "mimetype": "text/x-python",
   "name": "python",
   "nbconvert_exporter": "python",
   "pygments_lexer": "ipython2",
   "version": "2.7.12"
  }
 },
 "nbformat": 4,
 "nbformat_minor": 0
}
