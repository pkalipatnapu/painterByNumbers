{
 "cells": [
  {
   "cell_type": "code",
   "execution_count": 80,
   "metadata": {
    "collapsed": false
   },
   "outputs": [
    {
     "name": "stdout",
     "output_type": "stream",
     "text": [
      "(500, 0)\n",
      "(1000, 0)\n",
      "(1500, 0)\n",
      "('Could not process:', '101947.jpg', ':', IOError('image file is truncated (82 bytes not processed)',), \"- it's ok, skipping.\")\n"
     ]
    },
    {
     "name": "stderr",
     "output_type": "stream",
     "text": [
      "/Users/shruti/anaconda2/lib/python2.7/site-packages/PIL/Image.py:2238: DecompressionBombWarning: Image size (107327830 pixels) exceeds limit of 89478485 pixels, could be decompression bomb DOS attack.\n",
      "  DecompressionBombWarning)\n"
     ]
    },
    {
     "name": "stdout",
     "output_type": "stream",
     "text": [
      "(2000, 1)\n",
      "(2500, 1)\n",
      "(3000, 1)\n",
      "(3500, 1)\n",
      "(4000, 1)\n",
      "(4500, 1)\n",
      "(5000, 1)\n",
      "(5500, 1)\n",
      "(6000, 1)\n",
      "(6500, 1)\n",
      "(7000, 1)\n",
      "(7500, 1)\n",
      "(8000, 1)\n",
      "(8500, 1)\n",
      "(9000, 1)\n",
      "(9500, 1)\n",
      "(10000, 1)\n",
      "(10500, 1)\n",
      "(11000, 1)\n",
      "(11500, 1)\n",
      "(12000, 1)\n",
      "(12500, 1)\n",
      "(13000, 1)\n",
      "(13500, 1)\n",
      "(14000, 1)\n",
      "(14500, 1)\n",
      "(15000, 1)\n",
      "(15500, 1)\n",
      "(16000, 1)\n",
      "(16500, 1)\n",
      "(17000, 1)\n",
      "(17500, 1)\n",
      "(18000, 1)\n",
      "(18500, 1)\n",
      "(19000, 1)\n",
      "(19500, 1)\n",
      "(20000, 1)\n",
      "(20500, 1)\n",
      "(21000, 1)\n",
      "(21500, 1)\n"
     ]
    },
    {
     "name": "stderr",
     "output_type": "stream",
     "text": [
      "/Users/shruti/anaconda2/lib/python2.7/site-packages/PIL/Image.py:2238: DecompressionBombWarning: Image size (129097476 pixels) exceeds limit of 89478485 pixels, could be decompression bomb DOS attack.\n",
      "  DecompressionBombWarning)\n"
     ]
    },
    {
     "name": "stdout",
     "output_type": "stream",
     "text": [
      "(22000, 1)\n"
     ]
    },
    {
     "name": "stderr",
     "output_type": "stream",
     "text": [
      "/Users/shruti/anaconda2/lib/python2.7/site-packages/PIL/Image.py:2238: DecompressionBombWarning: Image size (131790400 pixels) exceeds limit of 89478485 pixels, could be decompression bomb DOS attack.\n",
      "  DecompressionBombWarning)\n"
     ]
    },
    {
     "name": "stdout",
     "output_type": "stream",
     "text": [
      "(22500, 1)\n"
     ]
    },
    {
     "name": "stderr",
     "output_type": "stream",
     "text": [
      "/Users/shruti/anaconda2/lib/python2.7/site-packages/PIL/Image.py:2238: DecompressionBombWarning: Image size (746700000 pixels) exceeds limit of 89478485 pixels, could be decompression bomb DOS attack.\n",
      "  DecompressionBombWarning)\n"
     ]
    },
    {
     "name": "stdout",
     "output_type": "stream",
     "text": [
      "(23000, 1)\n",
      "(23500, 1)\n",
      "(24000, 1)\n",
      "(24500, 1)\n",
      "(25000, 1)\n",
      "(25500, 1)\n",
      "(26000, 1)\n",
      "(26500, 1)\n",
      "(27000, 1)\n"
     ]
    },
    {
     "name": "stderr",
     "output_type": "stream",
     "text": [
      "/Users/shruti/anaconda2/lib/python2.7/site-packages/PIL/Image.py:2238: DecompressionBombWarning: Image size (94435468 pixels) exceeds limit of 89478485 pixels, could be decompression bomb DOS attack.\n",
      "  DecompressionBombWarning)\n"
     ]
    },
    {
     "name": "stdout",
     "output_type": "stream",
     "text": [
      "('Could not process:', '3917.jpg', ':', IOError('image file is truncated (39 bytes not processed)',), \"- it's ok, skipping.\")\n",
      "(27500, 2)\n",
      "(28000, 2)\n",
      "(28500, 2)\n",
      "(29000, 2)\n",
      "(29500, 2)\n",
      "('Could not process:', '41945.jpg', ':', IOError('image file is truncated (53 bytes not processed)',), \"- it's ok, skipping.\")\n",
      "(30000, 3)\n",
      "(30500, 3)\n",
      "(31000, 3)\n",
      "(31500, 3)\n"
     ]
    },
    {
     "name": "stderr",
     "output_type": "stream",
     "text": [
      "/Users/shruti/anaconda2/lib/python2.7/site-packages/PIL/Image.py:2238: DecompressionBombWarning: Image size (129086580 pixels) exceeds limit of 89478485 pixels, could be decompression bomb DOS attack.\n",
      "  DecompressionBombWarning)\n"
     ]
    },
    {
     "name": "stdout",
     "output_type": "stream",
     "text": [
      "(32000, 3)\n",
      "(32500, 3)\n",
      "(33000, 3)\n",
      "(33500, 3)\n"
     ]
    },
    {
     "name": "stderr",
     "output_type": "stream",
     "text": [
      "/Users/shruti/anaconda2/lib/python2.7/site-packages/PIL/Image.py:2238: DecompressionBombWarning: Image size (95799284 pixels) exceeds limit of 89478485 pixels, could be decompression bomb DOS attack.\n",
      "  DecompressionBombWarning)\n"
     ]
    },
    {
     "name": "stdout",
     "output_type": "stream",
     "text": [
      "(34000, 3)\n",
      "(34500, 3)\n",
      "(35000, 3)\n",
      "(35500, 3)\n",
      "(36000, 3)\n",
      "(36500, 3)\n"
     ]
    },
    {
     "name": "stderr",
     "output_type": "stream",
     "text": [
      "/Users/shruti/anaconda2/lib/python2.7/site-packages/PIL/Image.py:2238: DecompressionBombWarning: Image size (680730000 pixels) exceeds limit of 89478485 pixels, could be decompression bomb DOS attack.\n",
      "  DecompressionBombWarning)\n"
     ]
    },
    {
     "name": "stdout",
     "output_type": "stream",
     "text": [
      "(37000, 3)\n",
      "(37500, 3)\n",
      "(38000, 3)\n",
      "(38500, 3)\n",
      "(39000, 3)\n",
      "(39500, 3)\n",
      "(40000, 3)\n",
      "(40500, 3)\n",
      "(41000, 3)\n",
      "(41500, 3)\n",
      "(42000, 3)\n",
      "(42500, 3)\n",
      "(43000, 3)\n",
      "(43500, 3)\n",
      "(44000, 3)\n",
      "(44500, 3)\n",
      "(45000, 3)\n",
      "(45500, 3)\n",
      "(46000, 3)\n",
      "(46500, 3)\n",
      "(47000, 3)\n",
      "(47500, 3)\n",
      "(48000, 3)\n",
      "(48500, 3)\n"
     ]
    },
    {
     "name": "stderr",
     "output_type": "stream",
     "text": [
      "/Users/shruti/anaconda2/lib/python2.7/site-packages/PIL/Image.py:2238: DecompressionBombWarning: Image size (145486286 pixels) exceeds limit of 89478485 pixels, could be decompression bomb DOS attack.\n",
      "  DecompressionBombWarning)\n"
     ]
    },
    {
     "name": "stdout",
     "output_type": "stream",
     "text": [
      "(49000, 3)\n",
      "(49500, 3)\n",
      "(50000, 3)\n",
      "(50500, 3)\n",
      "(51000, 3)\n",
      "(51500, 3)\n",
      "(52000, 3)\n",
      "(52500, 3)\n",
      "(53000, 3)\n",
      "(53500, 3)\n",
      "(54000, 3)\n",
      "(54500, 3)\n",
      "(55000, 3)\n",
      "(55500, 3)\n"
     ]
    },
    {
     "name": "stderr",
     "output_type": "stream",
     "text": [
      "/Users/shruti/anaconda2/lib/python2.7/site-packages/PIL/Image.py:2238: DecompressionBombWarning: Image size (888150000 pixels) exceeds limit of 89478485 pixels, could be decompression bomb DOS attack.\n",
      "  DecompressionBombWarning)\n"
     ]
    },
    {
     "name": "stdout",
     "output_type": "stream",
     "text": [
      "(56000, 3)\n",
      "(56500, 3)\n",
      "(57000, 3)\n",
      "(57500, 3)\n",
      "(58000, 3)\n"
     ]
    },
    {
     "name": "stderr",
     "output_type": "stream",
     "text": [
      "/Users/shruti/anaconda2/lib/python2.7/site-packages/PIL/Image.py:2238: DecompressionBombWarning: Image size (99962094 pixels) exceeds limit of 89478485 pixels, could be decompression bomb DOS attack.\n",
      "  DecompressionBombWarning)\n"
     ]
    },
    {
     "name": "stdout",
     "output_type": "stream",
     "text": [
      "(58500, 3)\n",
      "(59000, 3)\n",
      "(59500, 3)\n",
      "(60000, 3)\n",
      "(60500, 3)\n",
      "(61000, 3)\n",
      "(61500, 3)\n",
      "('Could not process:', '79499.jpg', ':', IOError('image file is truncated (4054 bytes not processed)',), \"- it's ok, skipping.\")\n",
      "(62000, 4)\n",
      "(62500, 4)\n",
      "(63000, 4)\n",
      "(63500, 4)\n"
     ]
    },
    {
     "name": "stderr",
     "output_type": "stream",
     "text": [
      "/Users/shruti/anaconda2/lib/python2.7/site-packages/PIL/Image.py:2238: DecompressionBombWarning: Image size (669000000 pixels) exceeds limit of 89478485 pixels, could be decompression bomb DOS attack.\n",
      "  DecompressionBombWarning)\n"
     ]
    },
    {
     "name": "stdout",
     "output_type": "stream",
     "text": [
      "(64000, 4)\n",
      "(64500, 4)\n"
     ]
    },
    {
     "name": "stderr",
     "output_type": "stream",
     "text": [
      "/Users/shruti/anaconda2/lib/python2.7/site-packages/PIL/Image.py:2238: DecompressionBombWarning: Image size (698700000 pixels) exceeds limit of 89478485 pixels, could be decompression bomb DOS attack.\n",
      "  DecompressionBombWarning)\n"
     ]
    },
    {
     "name": "stdout",
     "output_type": "stream",
     "text": [
      "(65000, 4)\n",
      "(65500, 4)\n",
      "(66000, 4)\n",
      "(66500, 4)\n",
      "(67000, 4)\n",
      "(67500, 4)\n",
      "(68000, 4)\n",
      "(68500, 4)\n",
      "(69000, 4)\n",
      "(69500, 4)\n",
      "(70000, 4)\n",
      "(70500, 4)\n",
      "(71000, 4)\n",
      "(71500, 4)\n",
      "('Could not process:', '91033.jpg', ':', IOError('image file is truncated (86 bytes not processed)',), \"- it's ok, skipping.\")\n",
      "(72000, 5)\n",
      "(72500, 5)\n",
      "(73000, 5)\n",
      "('Could not process:', '92899.jpg', ':', IOError('image file is truncated (24 bytes not processed)',), \"- it's ok, skipping.\")\n",
      "(73500, 6)\n",
      "(74000, 6)\n",
      "(74500, 6)\n",
      "(75000, 6)\n"
     ]
    },
    {
     "name": "stderr",
     "output_type": "stream",
     "text": [
      "/Users/shruti/anaconda2/lib/python2.7/site-packages/PIL/Image.py:2238: DecompressionBombWarning: Image size (636480000 pixels) exceeds limit of 89478485 pixels, could be decompression bomb DOS attack.\n",
      "  DecompressionBombWarning)\n"
     ]
    },
    {
     "name": "stdout",
     "output_type": "stream",
     "text": [
      "(75500, 6)\n",
      "('Could not process:', '95347.jpg', ':', IOError('image file is truncated (0 bytes not processed)',), \"- it's ok, skipping.\")\n",
      "(76000, 7)\n",
      "(76500, 7)\n",
      "(77000, 7)\n",
      "(77500, 7)\n",
      "(78000, 7)\n"
     ]
    },
    {
     "name": "stderr",
     "output_type": "stream",
     "text": [
      "/Users/shruti/anaconda2/lib/python2.7/site-packages/PIL/Image.py:2238: DecompressionBombWarning: Image size (283327979 pixels) exceeds limit of 89478485 pixels, could be decompression bomb DOS attack.\n",
      "  DecompressionBombWarning)\n"
     ]
    },
    {
     "name": "stdout",
     "output_type": "stream",
     "text": [
      "(78500, 7)\n",
      "(79000, 7)\n",
      "('There were ', 7, ' files that could not be processed')\n"
     ]
    },
    {
     "data": {
      "text/plain": [
       "'\\ni=0\\nfor child in os.listdir(\"train\"):\\n    i+=1;\\n    if i%10 != 0:\\n        continue\\n    if i > 100:\\n        break\\n    fname = os.path.join(\"train\", child)\\n    img = Image.open(fname)\\n    w,h = img.size\\n    if w < h:\\n        new_h = SIZE\\n        new_w = int(w * (SIZE/float(h)))\\n        padding_w = new_h - new_w # 299 - new_w more cols need to be added to the right\\n        padding_h = 0\\n    else:\\n        new_h = int(h * (SIZE/(float(w))))\\n        new_w = SIZE\\n        padding_w = 0\\n        padding_h = new_w - new_h # 299 - new_h more rows need to be added at the bottom\\n    imgr = img.resize((new_w, new_h), Image.NEAREST).convert(\\'RGB\\')\\n    ndimg = np.asarray(imgr, dtype=\\'uint8\\')\\n    padded_img = np.zeros(shape=(SIZE, SIZE, 3), dtype=\\'uint8\\')\\n    padded_img[0:new_h, 0:new_w, :] = ndimg\\n    img = Image.fromarray(padded_img)\\n    img.save(os.path.join(\"output_dir\", child))\\n    \\n#     plt.show()\\n'"
      ]
     },
     "execution_count": 80,
     "metadata": {},
     "output_type": "execute_result"
    }
   ],
   "source": [
    "from PIL import Image\n",
    "from scipy.misc import imsave\n",
    "import os\n",
    "import numpy as np\n",
    "import matplotlib.pyplot as plt\n",
    "%matplotlib inline\n",
    "SIZE = 299\n",
    "\n",
    "def resize_and_padding(input_dir, output_dir, img_size=SIZE):\n",
    "    if (os.path.exists(output_dir)):\n",
    "        raise Exception('Output Directory already exists')\n",
    "    os.makedirs(output_dir)\n",
    "    i = 0\n",
    "    errCount = 0\n",
    "    for filename in os.listdir(input_dir):\n",
    "        try:\n",
    "            iname = os.path.join(input_dir, filename)\n",
    "            img = Image.open(iname)\n",
    "            w,h = img.size\n",
    "            if w > img_size or h > img_size:\n",
    "                if w < h:\n",
    "                    new_h = img_size\n",
    "                    new_w = int(w * (img_size/float(h)))\n",
    "                else:\n",
    "                    new_h = int(h * (img_size/(float(w))))\n",
    "                    new_w = img_size    \n",
    "                img = img.resize((new_w, new_h), Image.NEAREST).convert('RGB')\n",
    "            else:\n",
    "                new_w = w\n",
    "                new_h = h\n",
    "            ndimg = np.asarray(img, dtype='uint8')\n",
    "            padded_img = np.zeros(shape=(img_size, img_size, 3), dtype='uint8')\n",
    "            padded_img[:new_h, :new_w, :] = ndimg\n",
    "            img = Image.fromarray(padded_img)\n",
    "            img.save(os.path.join(output_dir, filename))\n",
    "        except Exception as e:\n",
    "            print('Could not process:', filename, ':', e, '- it\\'s ok, skipping.')\n",
    "            errCount +=1\n",
    "        i+=1\n",
    "        if i%500 == 0:\n",
    "            print(i, errCount)\n",
    "    print(\"There were \", errCount, \" files that could not be processed\")\n",
    "\n",
    "\n",
    "resize_and_padding(\"train\", \"train_resized_padded\")\n",
    "\n",
    "\n",
    "'''\n",
    "i=0\n",
    "for child in os.listdir(\"train\"):\n",
    "    i+=1;\n",
    "    if i%10 != 0:\n",
    "        continue\n",
    "    if i > 100:\n",
    "        break\n",
    "    fname = os.path.join(\"train\", child)\n",
    "    img = Image.open(fname)\n",
    "    w,h = img.size\n",
    "    if w < h:\n",
    "        new_h = SIZE\n",
    "        new_w = int(w * (SIZE/float(h)))\n",
    "        padding_w = new_h - new_w # 299 - new_w more cols need to be added to the right\n",
    "        padding_h = 0\n",
    "    else:\n",
    "        new_h = int(h * (SIZE/(float(w))))\n",
    "        new_w = SIZE\n",
    "        padding_w = 0\n",
    "        padding_h = new_w - new_h # 299 - new_h more rows need to be added at the bottom\n",
    "    imgr = img.resize((new_w, new_h), Image.NEAREST).convert('RGB')\n",
    "    ndimg = np.asarray(imgr, dtype='uint8')\n",
    "    padded_img = np.zeros(shape=(SIZE, SIZE, 3), dtype='uint8')\n",
    "    padded_img[0:new_h, 0:new_w, :] = ndimg\n",
    "    img = Image.fromarray(padded_img)\n",
    "    img.save(os.path.join(\"output_dir\", child))\n",
    "    \n",
    "#     plt.show()\n",
    "'''"
   ]
  },
  {
   "cell_type": "code",
   "execution_count": 81,
   "metadata": {
    "collapsed": false,
    "scrolled": true
   },
   "outputs": [
    {
     "name": "stdout",
     "output_type": "stream",
     "text": [
      "('Could not process:', '100532.jpg', ':', IOError('image file is truncated (57 bytes not processed)',), \"- it's ok, skipping.\")\n",
      "(500, 1)\n",
      "(1000, 1)\n",
      "(1500, 1)\n",
      "(2000, 1)\n",
      "(2500, 1)\n",
      "('Could not process:', '18649.jpg', ':', IOError('image file is truncated (79 bytes not processed)',), \"- it's ok, skipping.\")\n",
      "(3000, 2)\n",
      "('Could not process:', '20153.jpg', ':', IOError('image file is truncated (0 bytes not processed)',), \"- it's ok, skipping.\")\n",
      "(3500, 3)\n",
      "(4000, 3)\n"
     ]
    },
    {
     "name": "stderr",
     "output_type": "stream",
     "text": [
      "/Users/shruti/anaconda2/lib/python2.7/site-packages/PIL/Image.py:2238: DecompressionBombWarning: Image size (489750000 pixels) exceeds limit of 89478485 pixels, could be decompression bomb DOS attack.\n",
      "  DecompressionBombWarning)\n"
     ]
    },
    {
     "name": "stdout",
     "output_type": "stream",
     "text": [
      "(4500, 3)\n",
      "(5000, 3)\n",
      "(5500, 3)\n",
      "(6000, 3)\n",
      "(6500, 3)\n",
      "(7000, 3)\n",
      "(7500, 3)\n",
      "(8000, 3)\n",
      "(8500, 3)\n",
      "(9000, 3)\n",
      "(9500, 3)\n",
      "(10000, 3)\n",
      "(10500, 3)\n",
      "(11000, 3)\n",
      "(11500, 3)\n",
      "(12000, 3)\n"
     ]
    },
    {
     "name": "stderr",
     "output_type": "stream",
     "text": [
      "/Users/shruti/anaconda2/lib/python2.7/site-packages/PIL/Image.py:2238: DecompressionBombWarning: Image size (133026477 pixels) exceeds limit of 89478485 pixels, could be decompression bomb DOS attack.\n",
      "  DecompressionBombWarning)\n"
     ]
    },
    {
     "name": "stdout",
     "output_type": "stream",
     "text": [
      "(12500, 3)\n",
      "(13000, 3)\n",
      "(13500, 3)\n",
      "(14000, 3)\n",
      "(14500, 3)\n",
      "(15000, 3)\n",
      "(15500, 3)\n",
      "(16000, 3)\n",
      "(16500, 3)\n",
      "(17000, 3)\n",
      "(17500, 3)\n",
      "(18000, 3)\n",
      "(18500, 3)\n",
      "(19000, 3)\n",
      "(19500, 3)\n",
      "(20000, 3)\n",
      "(20500, 3)\n",
      "(21000, 3)\n",
      "(21500, 3)\n",
      "(22000, 3)\n",
      "(22500, 3)\n",
      "(23000, 3)\n",
      "(23500, 3)\n"
     ]
    },
    {
     "name": "stderr",
     "output_type": "stream",
     "text": [
      "/Users/shruti/anaconda2/lib/python2.7/site-packages/PIL/Image.py:2238: DecompressionBombWarning: Image size (688290000 pixels) exceeds limit of 89478485 pixels, could be decompression bomb DOS attack.\n",
      "  DecompressionBombWarning)\n"
     ]
    },
    {
     "name": "stdout",
     "output_type": "stream",
     "text": [
      "('There were ', 3, ' files that could not be processed')\n"
     ]
    }
   ],
   "source": [
    "resize_and_padding(\"test\", \"test_resized_padded\")"
   ]
  },
  {
   "cell_type": "code",
   "execution_count": null,
   "metadata": {
    "collapsed": true
   },
   "outputs": [],
   "source": []
  }
 ],
 "metadata": {
  "anaconda-cloud": {},
  "kernelspec": {
   "display_name": "Python [Root]",
   "language": "python",
   "name": "Python [Root]"
  },
  "language_info": {
   "codemirror_mode": {
    "name": "ipython",
    "version": 2
   },
   "file_extension": ".py",
   "mimetype": "text/x-python",
   "name": "python",
   "nbconvert_exporter": "python",
   "pygments_lexer": "ipython2",
   "version": "2.7.12"
  }
 },
 "nbformat": 4,
 "nbformat_minor": 0
}
